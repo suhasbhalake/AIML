{
  "nbformat": 4,
  "nbformat_minor": 0,
  "metadata": {
    "kernelspec": {
      "name": "python3",
      "display_name": "Python 3"
    },
    "colab": {
      "name": "simple-linear-regression-in-python.ipynb",
      "provenance": []
    },
    "language_info": {
      "name": "python"
    }
  },
  "cells": [
    {
      "cell_type": "code",
      "metadata": {
        "id": "s46OfeisxLP9"
      },
      "source": [
        "import numpy as np\n",
        "import matplotlib\n",
        "import matplotlib.pyplot as plt"
      ],
      "execution_count": 1,
      "outputs": []
    },
    {
      "cell_type": "code",
      "metadata": {
        "colab": {
          "base_uri": "https://localhost:8080/",
          "height": 331
        },
        "id": "Bn-aleMNv1qB",
        "outputId": "0a7f23a6-2f40-4759-dec0-694d28d10c54"
      },
      "source": [
        "\n",
        "\n",
        "def estimate_coef(x, y):\n",
        "\t# number of observations/points\n",
        "\t# https://www.geeksforgeeks.org/linear-regression-python-implementation/\n",
        "\tn = np.size(x)\n",
        "\n",
        "\t# mean of x and y vector\n",
        "\tm_x = np.mean(x)\n",
        "\tm_y = np.mean(y)\n",
        "\n",
        "\t# calculating cross-deviation and deviation about x\n",
        "\tSS_xy = np.sum(y*x) - n*m_y*m_x\n",
        "\tSS_xx = np.sum(x*x) - n*m_x*m_x\n",
        "\n",
        "\t# calculating regression coefficients\n",
        "\tb_1 = SS_xy / SS_xx\n",
        "\tb_0 = m_y - b_1*m_x\n",
        "\n",
        "\treturn (b_0, b_1)\n",
        "\n",
        "def plot_regression_line(x, y, b):\n",
        "\t# plotting the actual points as scatter plot\n",
        "\tplt.scatter(x, y, color = \"m\",\n",
        "\t\t\tmarker = \"o\", s = 30)\n",
        "\n",
        "\t# predicted response vector\n",
        "\ty_pred = b[0] + b[1]*x\n",
        "\n",
        "\t# plotting the regression line\n",
        "\tplt.plot(x, y_pred, color = \"g\")\n",
        "\n",
        "\t# putting labels\n",
        "\tplt.xlabel('x')\n",
        "\tplt.ylabel('y')\n",
        "\n",
        "\t# function to show plot\n",
        "\tplt.show()\n",
        "\n",
        "def main():\n",
        "\t# observations / data\n",
        "\tx = np.array([0, 1, 2, 3, 4, 5, 6, 7, 8, 9])\n",
        "\ty = np.array([1, 3, 2, 5, 7, 8, 8, 9, 10, 12])\n",
        "\n",
        "\t# estimating coefficients\n",
        "\tb = estimate_coef(x, y)\n",
        "\tprint(\"Estimated coefficients:\\nb_0 = {} \\\n",
        "\t\t\\nb_1 = {}\".format(b[0], b[1]))\n",
        "\n",
        "\t# plotting regression line\n",
        "\tplot_regression_line(x, y, b)\n",
        "\n",
        "if __name__ == \"__main__\":\n",
        "\tmain()\n"
      ],
      "execution_count": 2,
      "outputs": [
        {
          "output_type": "stream",
          "name": "stdout",
          "text": [
            "Estimated coefficients:\n",
            "b_0 = 1.2363636363636363 \t\t\n",
            "b_1 = 1.1696969696969697\n"
          ]
        },
        {
          "output_type": "display_data",
          "data": {
            "image/png": "[encoded data removed]",
            "text/plain": [
              "<Figure size 432x288 with 1 Axes>"
            ]
          },
          "metadata": {
            "needs_background": "light"
          }
        }
      ]
    }
  ]
}